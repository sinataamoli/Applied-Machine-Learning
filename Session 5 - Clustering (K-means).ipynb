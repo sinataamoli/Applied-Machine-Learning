{
 "cells": [
  {
   "cell_type": "markdown",
   "id": "bcde7ca3",
   "metadata": {},
   "source": [
    "---\n",
    "# <center> **Foundations of Applied Machine Learning**\n",
    "## <center> Winter 2025\n",
    "\n",
    "### <center> **Prof. Bahram Mobasher**\n",
    "### <center> Teaching Assistant: **[Sina Taamoli](https://sinataamoli.github.io/)** | email: *sina.taamoli@email.ucr.edu* | [Course webpage](https://github.com/sinataamoli/Foundations-of-Applied-Machine-Learning)\n",
    "### <center> Week 5 (Feb 7st): Clustering\n",
    "---"
   ]
  },
  {
   "cell_type": "code",
   "execution_count": 1,
   "id": "7038df83",
   "metadata": {},
   "outputs": [],
   "source": [
    "import numpy as np \n",
    "import random \n",
    "import matplotlib.pyplot as plt\n",
    "\n",
    "# font parameters dictionary\n",
    "font = {'family' : 'serif',\n",
    "        'weight' : 'bold',\n",
    "        'size'   : 18,}\n",
    "\n",
    "\n",
    "# figure parameters dictionary\n",
    "figure = {\"figsize\" : (6,6),\n",
    "          \"dpi\" : 120,\n",
    "          \"facecolor\" : \"w\", \n",
    "          \"edgecolor\" : \"k\",}\n",
    "\n",
    "\n",
    "\n",
    "# use LaTeX fonts in the plot\n",
    "plt.rc('text', usetex=True)\n",
    "\n",
    "# ticks settings\n",
    "plt.rc('xtick',labelsize=10)\n",
    "plt.rc('ytick',labelsize=10)\n",
    "\n",
    "# axes setting\n",
    "plt.rc('axes', titlesize=22, labelsize=18)     # fontsize of the axes title, labels\n",
    "\n",
    "# Set the font parameters\n",
    "plt.rc('font', **font) \n",
    "\n",
    "# Set the figure parameters \n",
    "plt.rc(\"figure\", **figure)"
   ]
  },
  {
   "cell_type": "markdown",
   "id": "9f828bf2",
   "metadata": {},
   "source": [
    "## Machine Learning: Clustering and Classificaion "
   ]
  },
  {
   "cell_type": "markdown",
   "id": "591bcf2f",
   "metadata": {},
   "source": [
    "### What is machine learning?"
   ]
  },
  {
   "cell_type": "markdown",
   "id": "7477d0fd",
   "metadata": {},
   "source": [
    "In traditional programming we mainly deal with an input and we need to explicitly write program for machine to produce a desired output but in the machine learning way of programming you will give the input and output (usually a smaller set of desired outputs) and the machine will find the right program to model output. \n"
   ]
  },
  {
   "cell_type": "markdown",
   "id": "af314ce6",
   "metadata": {},
   "source": [
    "### General idea:\n",
    "\n",
    "* Take a set of examples. (training data)\n",
    "* Infering some properties from the underlying model. (Model)\n",
    "* Use the model found to predict future (unknown) data. (test set, new examples, ...)"
   ]
  },
  {
   "cell_type": "markdown",
   "id": "dc4eddd0",
   "metadata": {},
   "source": [
    "Maching learning algorithm can be classified in two groups based on the available data:\n",
    "* **Supervised learning:** In this set of algorithm we are dealing with a labeled dataset and we are trying to predict the label for future instances. Here we are trying to find the **conditional** probability for our variables given a set of known examples.\n",
    "\n",
    "* **Unsupervised learning:** In these methods of learning we usually have a data set without any label and we are trying to find an underlying patterns. In the language of probability, we are trying to find the probability density of the inputs. We want to come up with a **priori** probability distribution."
   ]
  },
  {
   "cell_type": "markdown",
   "id": "bbfb6988",
   "metadata": {},
   "source": [
    "We are going to see that the **Supervised learning** is basically an **optimization** problem. "
   ]
  },
  {
   "cell_type": "markdown",
   "id": "764bebca",
   "metadata": {},
   "source": [
    "# **Clustering:**\n",
    "\n"
   ]
  },
  {
   "cell_type": "markdown",
   "id": "c77ddbcf",
   "metadata": {},
   "source": [
    "Clustering is an optimization problem. But first let's define some useful concepts:\n",
    "\n",
    "## **Variability** of a cluster: $V(c)$  \n",
    "This shows how much difference exist between each element of the cluster and the mean of the cluster. \n",
    "\n",
    "$$\n",
    "\\begin{equation*}\n",
    "V(c) = \\sum_{x \\in c} d(mean(c), x)\n",
    "\\end{equation*}\n",
    "$$\n",
    "\n",
    "In which $c$ is a cluster, and $d(x_0,x_1)$ is the distance between them.  [Euclidean](https://en.wikipedia.org/wiki/Euclidean_distance) or even [Minkowski](https://en.wikipedia.org/wiki/Minkowski_distance) distance)\n",
    "\n",
    "\n",
    "## **Dissimilarity** of the set of clusters: $D(C)$\n",
    "\n",
    "This is a measure for a aggregate variablility of a set of clusters. And it is defined as:\n",
    "\n",
    "\n",
    "$$\n",
    "\\begin{equation*}\n",
    "D(C) = \\sum_{c \\in C} V(c)\n",
    "\\end{equation*}\n",
    "$$"
   ]
  },
  {
   "cell_type": "markdown",
   "id": "f9610e8d",
   "metadata": {},
   "source": [
    "### Quick note on $d(x_0,x_1)$: \n",
    "\n",
    "Usually we define the distance between two points to be _Euclidean_. \n",
    "\n",
    "If we take two vectors as $X, Y \\in \\mathbb{R}^M$, we define the Euclidean distance to be:\n",
    "\n",
    "\n",
    "$$\n",
    "\\begin{equation*}\n",
    "d(\\vec{X}, \\vec{Y}) = \\sqrt{\\sum_{i=1}^M (X_i-Y_i)^2}\n",
    "\\end{equation*}\n",
    "$$\n",
    "\n",
    "\n",
    "This is a special case for a more general class of distance definitions which are called the _Minkowski_ distance, which is defined as: \n",
    "\n",
    "$$\n",
    "\\begin{equation*}\n",
    "d(\\vec{X}, \\vec{Y}) = \\sqrt[n]{\\sum_{i=1}^M (X_i-Y_i)^n}\n",
    "\\end{equation*}\n",
    "$$\n",
    "\n",
    "As an excersice, find the equivalent representation of a circle in 2-d Euclidian geometry, for different cases of n. "
   ]
  },
  {
   "cell_type": "markdown",
   "id": "703084a3",
   "metadata": {},
   "source": [
    "Let's write the code for Minkowski distance:"
   ]
  },
  {
   "cell_type": "code",
   "execution_count": 2,
   "id": "fdaf6bdf",
   "metadata": {},
   "outputs": [],
   "source": [
    "def Minkowski_d(x1, x2, p=2):\n",
    "    \"\"\" Function from L^p\n",
    "    This is a function for defining a general distance measure between any \n",
    "    given N-dimensional vectors:     x1, x2\n",
    "    \n",
    "    INPUT:\n",
    "    ------\n",
    "           x1 (list or array of floats) : First vector\n",
    "           x2 (list or array of floats) : Second vector\n",
    "           p (float) : The power in our Minkowski definition \n",
    "    \n",
    "    OUTPUT:\n",
    "    -------\n",
    "            (float) : The Minkowski distance of power p\n",
    "                      between x1 and x2 \n",
    "    \"\"\"\n",
    "    _sum_ = 0\n",
    "    \n",
    "    for x1_, x2_ in zip(x1, x2):\n",
    "       diff_sq = pow(abs(x1_ - x2_), p)\n",
    "       _sum_ += diff_sq\n",
    "    distance = pow(_sum_, 1/p)\n",
    "\n",
    "    return distance"
   ]
  },
  {
   "cell_type": "code",
   "execution_count": 3,
   "id": "13227a23",
   "metadata": {},
   "outputs": [
    {
     "data": {
      "text/plain": [
       "2.23606797749979"
      ]
     },
     "execution_count": 3,
     "metadata": {},
     "output_type": "execute_result"
    }
   ],
   "source": [
    "Minkowski_d([1, 5], [2, 3], p=2)"
   ]
  },
  {
   "cell_type": "markdown",
   "id": "a4dba1ff",
   "metadata": {},
   "source": [
    "### Continuing on Variability of a cluster:\n",
    "\n",
    "Now if you look at the definition of Variablity, you see that for the special case of Euclidean distance we are just missing a factor of $1/\\sqrt{k}$ in which $k$ is the number of points in a given cluster, from the definition of [variance](https://en.wikipedia.org/wiki/Variance).\n",
    "\n",
    "\n",
    "_What does it mean to not include the number of points in a cluster when calculating variability?_\n",
    "\n",
    "By doing that we are assigning **higher variability** to the **larger** cluster than the smaller cluster of the **same variance**.\n",
    "\n"
   ]
  },
  {
   "cell_type": "markdown",
   "id": "2eddc32d",
   "metadata": {},
   "source": [
    "You may have guessed by now, that we are trying to come up with an objective function for our optimization problem. So we can ask for a set of clusters that would minimize the dissimilarity of the clusters.\n",
    "\n",
    "But if we put a cluster on each point, we are going to get zero dissimilarity which obviously is not a useful answer. For avoiding this we need to define a constraint; for example, we can constrain the total distance between clusters to be smaller than some value, or enforce a maximum number for clusters.\n",
    "\n"
   ]
  },
  {
   "cell_type": "markdown",
   "id": "0125ca68",
   "metadata": {},
   "source": [
    "# Hierarchical Clustering:"
   ]
  },
  {
   "cell_type": "markdown",
   "id": "a679a762",
   "metadata": {},
   "source": [
    "In this method of clustering we do the following:\n",
    "\n",
    "_Naive algorithm:_\n",
    "\n",
    "1. Assign a cluster to each point, so $N$ clusters for $N$ points.\n",
    "\n",
    "2. Find the most similar clusters and merge them together. Now we have $N-1$ clusters.\n",
    "\n",
    "3. We do the second part untill we get to a cluster that contains all of the $N$ points.\n",
    "\n",
    "\n",
    "This is the [Agglomerative hierarchical clustering](https://en.wikipedia.org/wiki/Hierarchical_clustering#Agglomerative_clustering_example).\n",
    " "
   ]
  },
  {
   "cell_type": "markdown",
   "id": "5813bd26",
   "metadata": {},
   "source": [
    "Now we need to quantify what we mean by similarity (linkage) of two clusters.\n",
    "\n",
    "\n",
    "These are **Linkage Metrics**:\n",
    "\n",
    "1. **Single-linkage**:  It is the shortest distance between any member of one cluster and any memeber of another.\n",
    "\n",
    "\n",
    "2. **Complete Linkage**: It is the greatest distance between any member of one cluster and any memeber of another.\n",
    "\n",
    "\n",
    "3. **Average Linkage**: It is the average distance between any member of one cluster and any memeber of another."
   ]
  },
  {
   "cell_type": "markdown",
   "id": "b78ba8a3",
   "metadata": {},
   "source": [
    "Let's look at the following example:"
   ]
  },
  {
   "cell_type": "code",
   "execution_count": 4,
   "id": "ccb7530e",
   "metadata": {},
   "outputs": [
    {
     "data": {
      "image/png": "[encoded data removed]",
      "text/plain": [
       "<Figure size 576x576 with 1 Axes>"
      ]
     },
     "metadata": {
      "needs_background": "light"
     },
     "output_type": "display_data"
    }
   ],
   "source": [
    "np.random.seed(500)\n",
    "\n",
    "x1 = np.random.randint(0,10, 5)\n",
    "x2 = np.random.randint(8,28, 6)\n",
    "\n",
    "y1 = np.random.randint(0, 20, 5)\n",
    "y2 = np.random.randint(15, 55, 6)\n",
    "\n",
    "\n",
    "\n",
    "_x_, _y_ = list(x1), list(y1)\n",
    "\n",
    "_x_.extend(list(x2))\n",
    "_y_.extend(list(y2))\n",
    "labels = np.arange(1, len(_x_)+1, 1)\n",
    "\n",
    "plt.figure(figsize=(8,8))\n",
    "\n",
    "plt.plot(x1, y1, \"r.\" , markersize = 22)\n",
    "plt.plot(x2, y2, \"r.\", markersize = 22)\n",
    "\n",
    "\n",
    "for label, x, y in zip(labels, _x_, _y_):  \n",
    "    plt.annotate(\n",
    "        label,\n",
    "        xy=(x, y), xytext=(-3, 3),\n",
    "        textcoords='offset points', ha='right', va='bottom', fontsize=16)\n",
    "plt.show()  \n",
    "\n",
    "plt.show()"
   ]
  },
  {
   "cell_type": "markdown",
   "id": "fcd1352f",
   "metadata": {},
   "source": [
    "Now let's use `scipy` for creating the [dendogram](https://en.wikipedia.org/wiki/Dendrogram) for the hierarchical clustering:"
   ]
  },
  {
   "cell_type": "code",
   "execution_count": 5,
   "id": "c6f4321a",
   "metadata": {},
   "outputs": [],
   "source": [
    "import scipy.cluster.hierarchy "
   ]
  },
  {
   "cell_type": "code",
   "execution_count": 6,
   "id": "fd485bf4",
   "metadata": {},
   "outputs": [],
   "source": [
    "_data_ = np.c_[_x_, _y_]"
   ]
  },
  {
   "cell_type": "code",
   "execution_count": 11,
   "id": "3c9a14c0",
   "metadata": {},
   "outputs": [],
   "source": [
    "links = scipy.cluster.hierarchy.linkage(_data_, method = \"single\", metric = \"euclidean\")"
   ]
  },
  {
   "cell_type": "code",
   "execution_count": 10,
   "id": "96ac16ae",
   "metadata": {},
   "outputs": [
    {
     "data": {
      "image/png": "[encoded data removed]",
      "text/plain": [
       "<Figure size 720x504 with 1 Axes>"
      ]
     },
     "metadata": {
      "needs_background": "light"
     },
     "output_type": "display_data"
    }
   ],
   "source": [
    "plt.figure(figsize=(10, 7))  \n",
    "scipy.cluster.hierarchy.dendrogram(\n",
    "    links,  \n",
    "    orientation='top',\n",
    "    labels=labels,\n",
    "    distance_sort='descending',\n",
    "    show_leaf_counts=True, \n",
    ")\n",
    "\n",
    "plt.xlabel(r\"Label of our data\", fontsize = 19)\n",
    "plt.ylabel(r\"Number of steps toward smaller number of clusters\", fontsize = 17)\n",
    "\n",
    "plt.show()  "
   ]
  },
  {
   "cell_type": "markdown",
   "id": "a7949ad2",
   "metadata": {},
   "source": [
    "This is our resulting dendogram that contains all of the possible clusterings following the algorithm mentioned above."
   ]
  },
  {
   "cell_type": "markdown",
   "id": "ba741786",
   "metadata": {},
   "source": [
    "### _few notes_:\n",
    "\n",
    "This is completely deterministic for a given linkage metric.\n",
    "\n",
    "\n",
    "The answer might not be optimal, since the hierarchical clustering is a **greedy algorithm**. In other words, your answer could be optimal but not globally optimal. \n",
    "\n",
    "\n",
    "However, this can become very slow and the number of calculations grows with $O(N^3)$ which can become useless quickly. \n",
    "\n",
    "_However for some linkage metrics (i.e. single-linkage), there exist $O(N^2)$ algorithms but still not very fast._"
   ]
  },
  {
   "cell_type": "markdown",
   "id": "644d763e",
   "metadata": {},
   "source": [
    "# k-means clustering:\n",
    "\n",
    "If you know how many clusters you want then this is going to be a better choice since it is much faster. ($k$ is the number of clusters we want)"
   ]
  },
  {
   "cell_type": "markdown",
   "id": "11a265f7",
   "metadata": {},
   "source": [
    "```algorithm\n",
    "1. Start by randomly choosing k examples \n",
    "           as our intial centeroid. \n",
    "\n",
    "2. create k clusters by assiging examples \n",
    "           to closest cendroid.\n",
    "           \n",
    "3. Assign new values for the centeroid: \n",
    "           The average of previous cluster configuration.\n",
    "    \n",
    "4. Go to (2) while centroids are changing, else break.\n",
    "           We have our final configuration.\n",
    "           \n",
    "```  \n"
   ]
  },
  {
   "cell_type": "markdown",
   "id": "538be07a",
   "metadata": {},
   "source": [
    "**_Important:_** Notice that the algorithm is not deterministic and the result can change by choosing another initial configuration."
   ]
  },
  {
   "cell_type": "markdown",
   "id": "aafe8cc3",
   "metadata": {},
   "source": [
    "_How much time it takes to run the algorithm once before getting to the 4th line?_\n",
    "\n",
    "For $N$ points and $k$ clusters we need to find $k*N$ distances. Which is much smaller than $O(N^2)$. Also, we will see that we do not need to go through many iteration to converge. (Relative to $N$)"
   ]
  },
  {
   "cell_type": "code",
   "execution_count": 12,
   "id": "38c6f0e0",
   "metadata": {},
   "outputs": [
    {
     "data": {
      "image/png": "[encoded data removed]",
      "text/plain": [
       "<Figure size 576x576 with 1 Axes>"
      ]
     },
     "metadata": {
      "needs_background": "light"
     },
     "output_type": "display_data"
    }
   ],
   "source": [
    "plt.figure(figsize=(8,8))\n",
    "\n",
    "plt.plot(_x_, _y_, \".\", markersize = 14)\n",
    "\n",
    "plt.show()"
   ]
  },
  {
   "cell_type": "markdown",
   "id": "00e9e5db",
   "metadata": {},
   "source": [
    "These are some 2-d data points and you want to find a clustering for them."
   ]
  },
  {
   "cell_type": "markdown",
   "id": "d7073f26",
   "metadata": {},
   "source": [
    "## Let's define some classes!\n",
    "\n",
    "\n",
    "First class is `Point` which contains information about a given data point:"
   ]
  },
  {
   "cell_type": "code",
   "execution_count": 13,
   "id": "61718a54",
   "metadata": {},
   "outputs": [],
   "source": [
    "class Point:\n",
    "    def __init__(self, features, label = None, \\\n",
    "                 name = \"Unassigned\"):\n",
    "        self.name = name\n",
    "        self.features = features\n",
    "        self.label = label\n",
    "        \n",
    "    # get the dimensionality of the features\n",
    "    def get_dimension(self):\n",
    "        return len(self.features)\n",
    "    \n",
    "    def get_features(self):\n",
    "        return self.features\n",
    "    \n",
    "    def get_label(self):\n",
    "        return self.label\n",
    "    \n",
    "    def get_name(self):\n",
    "        return self. name\n",
    "    \n",
    "    def distance_Minkowski(self, other, p = 2):\n",
    "        return Minkowski_d(self.features, other.get_features(), p)\n",
    "    distance_Minkowski.__doc__ = Minkowski_d.__doc__\n",
    "    \n",
    "    def get_norm(self, p = 2):\n",
    "        _zero_ = [0 for _ in range(self.get_dimension())]\n",
    "        return Minkowski_d(self.features, _zero_, p)\n",
    "    \n",
    "    def __str__(self):\n",
    "        return self.name +\" : \"+ str(self.features) + ' : '\\\n",
    "               + str(self.label)"
   ]
  },
  {
   "cell_type": "markdown",
   "id": "5aeb41ca",
   "metadata": {},
   "source": [
    "Our second class is the class of `Cluster`, which contains several data points. (`Point` objects)"
   ]
  },
  {
   "cell_type": "code",
   "execution_count": 14,
   "id": "1683cff7",
   "metadata": {},
   "outputs": [],
   "source": [
    "class Cluster:\n",
    "    def __init__(self, points):\n",
    "        self.points = points\n",
    "        self.centroid = self.find_centroid()\n",
    "        \n",
    "    def find_centroid(self):\n",
    "        _sum_ = np.zeros(self.points[0].get_dimension())\n",
    "        for point in self.points:\n",
    "            _sum_ += np.array(point.get_features())\n",
    "        Centroid_vec = _sum_/len(self.points)\n",
    "        centroid = Point(Centroid_vec, name = \"Centroid\")\n",
    "        return centroid\n",
    "    \n",
    "    def update(self, points):\n",
    "        # Keep the old centroid\n",
    "        previous_centroid = self.centroid\n",
    "        # Update the Cluster attribiutes\n",
    "        self.points = points\n",
    "        self.centroid = self.find_centroid()\n",
    "        return self.centroid.distance_Minkowski(previous_centroid)\n",
    "    \n",
    "    def variability(self, p = 2):\n",
    "        _sum_distances_ = 0\n",
    "        for point in self.points:\n",
    "            _sum_distances_ += point.distance_Minkowski(self.centroid)\n",
    "        return _sum_distances_\n",
    "    \n",
    "    def Elements(self):\n",
    "        for point in self.points:\n",
    "            yield point\n",
    "            \n",
    "    def __str__(self):\n",
    "        names = []\n",
    "        for point in self.points:\n",
    "            names.append(point.get_name())\n",
    "        names.sort()\n",
    "        info = \"Cluster Centroid: \" \\\n",
    "               + str(self.centroid.features) +  \"contains:\" + \"\\n\"\n",
    "        for name in names:\n",
    "            info = info + name + \", \"\n",
    "        return info[:-2] #remove trailing comma and space           "
   ]
  },
  {
   "cell_type": "code",
   "execution_count": 15,
   "id": "07f68885",
   "metadata": {},
   "outputs": [],
   "source": [
    "def Dissimilarity(_clusters_, p = 2):\n",
    "    _tot_vari = 0\n",
    "    for _cluster_ in _clusters_:\n",
    "        _tot_vari += _cluster_.variability(p)\n",
    "    return _tot_vari"
   ]
  }
 ],
 "metadata": {
  "kernelspec": {
   "display_name": "Python 3",
   "language": "python",
   "name": "python3"
  },
  "language_info": {
   "codemirror_mode": {
    "name": "ipython",
    "version": 3
   },
   "file_extension": ".py",
   "mimetype": "text/x-python",
   "name": "python",
   "nbconvert_exporter": "python",
   "pygments_lexer": "ipython3",
   "version": "3.8.8"
  }
 },
 "nbformat": 4,
 "nbformat_minor": 5
}
