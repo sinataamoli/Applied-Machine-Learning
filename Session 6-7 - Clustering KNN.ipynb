{
 "cells": [
  {
   "cell_type": "markdown",
   "id": "bcde7ca3",
   "metadata": {},
   "source": [
    "---\n",
    "# <center> **Foundations of Applied Machine Learning**\n",
    "## <center> Winter 2025\n",
    "\n",
    "### <center> **Prof. Bahram Mobasher**\n",
    "### <center> Teaching Assistant: **[Sina Taamoli](https://sinataamoli.github.io/)** | email: *sina.taamoli@email.ucr.edu* | [Course webpage](https://github.com/sinataamoli/Foundations-of-Applied-Machine-Learning)\n",
    "### <center> Week 6 (Feb 14st): Clustering (KNN)\n",
    "---"
   ]
  },
  {
   "cell_type": "code",
   "execution_count": 1,
   "id": "7038df83",
   "metadata": {},
   "outputs": [],
   "source": [
    "import numpy as np \n",
    "import random \n",
    "import matplotlib.pyplot as plt\n",
    "\n",
    "# font parameters dictionary\n",
    "font = {'family' : 'serif',\n",
    "        'weight' : 'bold',\n",
    "        'size'   : 18,}\n",
    "\n",
    "\n",
    "# figure parameters dictionary\n",
    "figure = {\"figsize\" : (6,6),\n",
    "          \"dpi\" : 120,\n",
    "          \"facecolor\" : \"w\", \n",
    "          \"edgecolor\" : \"k\",}\n",
    "\n",
    "\n",
    "\n",
    "# use LaTeX fonts in the plot\n",
    "plt.rc('text', usetex=True)\n",
    "\n",
    "# ticks settings\n",
    "plt.rc('xtick',labelsize=10)\n",
    "plt.rc('ytick',labelsize=10)\n",
    "\n",
    "# axes setting\n",
    "plt.rc('axes', titlesize=22, labelsize=18)     # fontsize of the axes title, labels\n",
    "\n",
    "# Set the font parameters\n",
    "plt.rc('font', **font) \n",
    "\n",
    "# Set the figure parameters \n",
    "plt.rc(\"figure\", **figure)"
   ]
  },
  {
   "cell_type": "code",
   "execution_count": 2,
   "id": "25ac6ea1",
   "metadata": {},
   "outputs": [],
   "source": [
    "def Minkowski_d(x1, x2, p=2):\n",
    "    \"\"\" Function from L^p\n",
    "    This is a function for defining a general distance measure between any \n",
    "    given N-dimensional vectors:     x1, x2\n",
    "    \n",
    "    INPUT:\n",
    "    ------\n",
    "           x1 (list or array of floats) : First vector\n",
    "           x2 (list or array of floats) : Second vector\n",
    "           p (float) : The power in our Minkowski definition \n",
    "    \n",
    "    OUTPUT:\n",
    "    -------\n",
    "            (float) : The Minkowski distance of power p\n",
    "                      between x1 and x2 \n",
    "    \"\"\"\n",
    "    \n",
    "    # Assuming we have a list or an array of numbers\n",
    "    # Creating a variable for summation\n",
    "    _sum_=0\n",
    "    # Now we go through every element on the arrays and\n",
    "    # will find the distance and add them  \n",
    "    for x1_, x2_ in zip(x1, x2):\n",
    "        dummy = pow(abs(x1_-x2_), p)\n",
    "        _sum_+=dummy\n",
    "    distance = pow(_sum_, 1/p)\n",
    "    return distance"
   ]
  },
  {
   "cell_type": "code",
   "execution_count": 3,
   "id": "ba7462bb",
   "metadata": {},
   "outputs": [],
   "source": [
    "class Point:\n",
    "    def __init__(self, features, label = None, \\\n",
    "                 name = \"Unassigned\"):\n",
    "        self.name = name\n",
    "        self.features = features\n",
    "        self.label = label\n",
    "        \n",
    "    # get the dimensionality of the features\n",
    "    def get_dimension(self):\n",
    "        return len(self.features)\n",
    "    \n",
    "    def get_features(self):\n",
    "        return self.features\n",
    "    \n",
    "    def get_label(self):\n",
    "        return self.label\n",
    "    \n",
    "    def get_name(self):\n",
    "        return self.name\n",
    "    \n",
    "    def distance_Minkowski(self, other, p = 2):\n",
    "        return Minkowski_d(self.features, other.get_features(), p)\n",
    "    distance_Minkowski.__doc__ = Minkowski_d.__doc__\n",
    "    \n",
    "    def get_norm(self, p = 2):\n",
    "        _zero_=[0 for _ in range(self.get_dimension())]\n",
    "        return Minkowski_d(self.features, _zero_, p)\n",
    "    \n",
    "    def __str__(self):\n",
    "        return self.name +\" : \"+ str(self.features) + ' : '\\\n",
    "               + str(self.label)"
   ]
  },
  {
   "cell_type": "markdown",
   "id": "4a87ef7a",
   "metadata": {},
   "source": [
    "# Classification:\n",
    "\n",
    "In the last part on clustering we were able to develop our first unsupervised learning algorithm. Here we are going to see how a supervised algorithm works. But first let's talk about _supervised learning_."
   ]
  },
  {
   "cell_type": "markdown",
   "id": "008b999e",
   "metadata": {},
   "source": [
    "## Supervised learning: \n",
    "\n",
    "* **Regression**: \n",
    "    * Fitting curve to data\n",
    "    * Finding a Real valued measure for data vector. (features)\n",
    "    \n",
    "    \n",
    "    \n",
    "* **Classification**:\n",
    "    * Asscociate each data vector to a label. (N-dimensional vector of features to a discrete value which are the labels.) "
   ]
  },
  {
   "cell_type": "markdown",
   "id": "58f9d2e6",
   "metadata": {},
   "source": [
    "## Nearest Neighbour: \n",
    "\n",
    "One of the most commonly used algorithm for classification is **nearest neighbour**. In which you just remember the data you trained on and you will not perform any fancy manipulation on the data. \n",
    "\n",
    "\n",
    "Basic algorithm is as follows:\n",
    "\n",
    "```algorithm\n",
    " * Find the nearest example from the training data to the new data.\n",
    " \n",
    " * Assign the known label of that example to your new data. \n",
    "```"
   ]
  },
  {
   "cell_type": "markdown",
   "id": "11174665",
   "metadata": {},
   "source": [
    "Let's imagine the following labeled points in your data set:"
   ]
  },
  {
   "cell_type": "code",
   "execution_count": 4,
   "id": "f654101e",
   "metadata": {},
   "outputs": [
    {
     "data": {
      "image/png": "[encoded data removed]",
      "text/plain": [
       "<Figure size 576x576 with 1 Axes>"
      ]
     },
     "metadata": {
      "needs_background": "light"
     },
     "output_type": "display_data"
    }
   ],
   "source": [
    "fig_cl_1 = plt.figure(figsize=(8,8))\n",
    "\n",
    "group_1, group_2 = [], []\n",
    "random.seed(50)\n",
    "\n",
    "\n",
    "\n",
    "for i in range(50):\n",
    "    _p_ = Point([random.randint(0, 50), random.randint(20, 60)], label=\"red\")\n",
    "    group_1.append(_p_)\n",
    "    plt.scatter(_p_.get_features()[0], _p_.get_features()[1], color = \"r\")\n",
    "    \n",
    "    \n",
    "    _p_ = Point([random.randint(20, 60), random.randint(40, 80)], label=\"blue\")\n",
    "    group_2.append(_p_)\n",
    "    plt.scatter(_p_.get_features()[0], _p_.get_features()[1], color = \"b\")\n",
    "\n",
    "plt.xlabel(r\"Feature 1\", fontsize = 19)\n",
    "plt.ylabel(r\"Feature 2\", fontsize = 19)\n",
    "\n",
    "plt.show()"
   ]
  },
  {
   "cell_type": "markdown",
   "id": "7d76629a",
   "metadata": {},
   "source": [
    "Now let's say we have a new data point which we are trying to assign the labels \"red\" and \"blue\" to it based on the training data. (data we already have)\n",
    "\n",
    "\n",
    "\n",
    "The easiest way to deal with that is to consider the label from the **nearest neighbour** in terms of our distant measure."
   ]
  },
  {
   "cell_type": "code",
   "execution_count": 5,
   "id": "59a1f238",
   "metadata": {},
   "outputs": [],
   "source": [
    "new_data = [36, 49]\n",
    "\n",
    "New_data = Point(new_data, label=\"None\")"
   ]
  },
  {
   "cell_type": "code",
   "execution_count": 7,
   "id": "daa28cc4",
   "metadata": {},
   "outputs": [
    {
     "name": "stdout",
     "output_type": "stream",
     "text": [
      "13.0 red\n",
      "9.219544457292887 red\n",
      "5.385164807134504 red\n",
      "5.0 red\n",
      "3.605551275463989 blue\n",
      "2.23606797749979 blue\n",
      "2.23606797749979 blue\n"
     ]
    }
   ],
   "source": [
    "groups = group_1\n",
    "groups.extend(group_2)\n",
    "\n",
    "minimum_distance = New_data.distance_Minkowski(group_1[0])\n",
    "\n",
    "for point in groups:\n",
    "    _distance_ = New_data.distance_Minkowski(point)\n",
    "    \n",
    "    if _distance_<= minimum_distance:\n",
    "        minimum_distance = _distance_\n",
    "        New_data.label = point.get_label()\n",
    "        print(minimum_distance, New_data.label)"
   ]
  },
  {
   "cell_type": "code",
   "execution_count": 8,
   "id": "ce17bad4",
   "metadata": {},
   "outputs": [
    {
     "data": {
      "image/png": "[encoded data removed]",
      "text/plain": [
       "<Figure size 576x576 with 1 Axes>"
      ]
     },
     "metadata": {
      "needs_background": "light"
     },
     "output_type": "display_data"
    }
   ],
   "source": [
    "fig_cl_1 = plt.figure(figsize=(8,8))\n",
    "\n",
    "for point in groups:\n",
    "    plt.plot(point.get_features()[0], point.get_features()[1], \".\", \n",
    "             color = point.get_label(), markersize = 12)\n",
    "\n",
    "    \n",
    "plt.plot(New_data.get_features()[0], New_data.get_features()[1], \"*\",\n",
    "         color = New_data.get_label(), markersize = 15)\n",
    "\n",
    "plt.xlabel(r\"Feature 1\", fontsize = 19)\n",
    "plt.ylabel(r\"Feature 2\", fontsize = 19)\n",
    "\n",
    "plt.show()"
   ]
  },
  {
   "cell_type": "markdown",
   "id": "7971be2f",
   "metadata": {},
   "source": [
    "And you can see with our code we found the nearest element in the data set to our  new data (star) and we assigned the closeset existing label."
   ]
  },
  {
   "cell_type": "markdown",
   "id": "1b7bd16f",
   "metadata": {},
   "source": [
    "This approach has a problem since we only look at the nearest neighbour in which we can mislead us quite easily particularly if we have a noisy data set. For avoiding this issue we will introduce another method:"
   ]
  },
  {
   "cell_type": "markdown",
   "id": "95b06f90",
   "metadata": {},
   "source": [
    "## K-Nearest Neighbours: (KNN)"
   ]
  },
  {
   "cell_type": "markdown",
   "id": "b08cdb78",
   "metadata": {},
   "source": [
    "This is very similar to nearest neighbour algrithm but this time we are \n",
    "looking for K nearest neighbours and to take the most occured label of those K neighbours as your prediction for new data. \n",
    "\n",
    "All that said, you should remember that by increasing K you are making the size of your \"true\" labes more relevant. Which will increase your error in predicting labels for new data.\n",
    "   "
   ]
  },
  {
   "cell_type": "markdown",
   "id": "f99ccac9",
   "metadata": {},
   "source": [
    "Let's look at another famous dataset called [iris plants dataset](https://archive.ics.uci.edu/ml/machine-learning-databases/iris/)."
   ]
  }
 ],
 "metadata": {
  "kernelspec": {
   "display_name": "Python 3",
   "language": "python",
   "name": "python3"
  },
  "language_info": {
   "codemirror_mode": {
    "name": "ipython",
    "version": 3
   },
   "file_extension": ".py",
   "mimetype": "text/x-python",
   "name": "python",
   "nbconvert_exporter": "python",
   "pygments_lexer": "ipython3",
   "version": "3.8.8"
  }
 },
 "nbformat": 4,
 "nbformat_minor": 5
}
